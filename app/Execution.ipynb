{
  "cells": [
    {
      "cell_type": "code",
      "source": [
        "from google.colab import drive\n",
        "drive.mount('/content/drive')"
      ],
      "metadata": {
        "colab": {
          "base_uri": "https://localhost:8080/"
        },
        "id": "b-gzkprQD0a8",
        "outputId": "4d6dddfc-81c2-4283-bdc5-a5ea25f05954"
      },
      "id": "b-gzkprQD0a8",
      "execution_count": 2,
      "outputs": [
        {
          "output_type": "stream",
          "name": "stdout",
          "text": [
            "Mounted at /content/drive\n"
          ]
        }
      ]
    },
    {
      "cell_type": "code",
      "execution_count": 9,
      "id": "0585e93f-6774-4303-ae7f-7eb37f114cb4",
      "metadata": {
        "colab": {
          "base_uri": "https://localhost:8080/"
        },
        "id": "0585e93f-6774-4303-ae7f-7eb37f114cb4",
        "outputId": "f890a5ae-1fac-481f-be98-15d7ee99c00e"
      },
      "outputs": [
        {
          "output_type": "stream",
          "name": "stdout",
          "text": [
            "Prediction: Positive\n"
          ]
        }
      ],
      "source": [
        "import joblib\n",
        "\n",
        "# Load the saved model\n",
        "loaded_model = joblib.load('/content/drive/MyDrive/random_forest_imdb.pkl')\n",
        "\n",
        "# Load the saved vectorizer\n",
        "loaded_vectorizer = joblib.load('/content/drive/MyDrive/tfidf_vectorizer2.pkl')\n",
        "\n",
        "# Step 1: Preprocess new text using the loaded vectorizer\n",
        "new_review = [\"outdated\"]\n",
        "X_new = loaded_vectorizer.transform(new_review)\n",
        "\n",
        "# Step 2: Predict using the loaded model\n",
        "prediction = loaded_model.predict(X_new)\n",
        "\n",
        "# Output the prediction\n",
        "print(\"Prediction:\", \"Positive\" if prediction[0] == 1 else \"Negative\")"
      ]
    },
    {
      "cell_type": "code",
      "execution_count": null,
      "id": "879a481a-0f54-4c75-bb73-17b7f6e98dd7",
      "metadata": {
        "id": "879a481a-0f54-4c75-bb73-17b7f6e98dd7"
      },
      "outputs": [],
      "source": []
    }
  ],
  "metadata": {
    "kernelspec": {
      "display_name": "Python 3 (ipykernel)",
      "language": "python",
      "name": "python3"
    },
    "language_info": {
      "codemirror_mode": {
        "name": "ipython",
        "version": 3
      },
      "file_extension": ".py",
      "mimetype": "text/x-python",
      "name": "python",
      "nbconvert_exporter": "python",
      "pygments_lexer": "ipython3",
      "version": "3.13.1"
    },
    "colab": {
      "provenance": []
    }
  },
  "nbformat": 4,
  "nbformat_minor": 5
}